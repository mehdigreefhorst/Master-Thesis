{
 "cells": [
  {
   "cell_type": "code",
   "execution_count": 1,
   "id": "bc1d9ce8",
   "metadata": {},
   "outputs": [],
   "source": [
    "import requests"
   ]
  },
  {
   "cell_type": "code",
   "execution_count": 2,
   "id": "fd20c444",
   "metadata": {},
   "outputs": [],
   "source": [
    "endpoint = \"http://127.0.0.1:5001\"\n"
   ]
  },
  {
   "cell_type": "code",
   "execution_count": null,
   "id": "efe8b5eb",
   "metadata": {},
   "outputs": [
    {
     "data": {
      "text/plain": [
       "{'user_id': '68ac7022e24c87692ba648f4'}"
      ]
     },
     "execution_count": 37,
     "metadata": {},
     "output_type": "execute_result"
    }
   ],
   "source": [
    "def signup():\n",
    "\n",
    "    signup_endpoint = f\"{endpoint}/auth/signup\"\n",
    "    email = \"test@test.nl\"\n",
    "    password = \"tester123\"\n",
    "    login_data = {\"email\": email, \"password\": password}\n",
    "\n",
    "    response = requests.post(signup_endpoint, json=login_data)\n",
    "    returnable  = response.json()\n",
    "    print(returnable)\n",
    "\n",
    "    login_endpoint = f\"{endpoint}/auth/login\"\n",
    "\n",
    "    response = requests.post(login_endpoint, json=login_data)\n",
    "    access_token = response.json()[\"access_token\"]\n",
    "    print(\"access_token = \", access_token)\n",
    "    return returnable, access_token"
   ]
  },
  {
   "cell_type": "code",
   "execution_count": 2,
   "id": "7cfdd578",
   "metadata": {},
   "outputs": [],
   "source": [
    "import requests\n",
    "from typing import Dict, Optional\n",
    "\n",
    "class ApplicationTester:\n",
    "    endpoint = \"http://127.0.0.1:5001\"\n",
    "\n",
    "    def __init__(self):\n",
    "        self.access_token: Optional[str] = None\n",
    "        self.refresh_token: Optional[str] = None\n",
    "        self.session = requests.Session()\n",
    "        self.login()\n",
    "\n",
    "    # ---------- auth ----------\n",
    "    def login(self):\n",
    "        login_endpoint = f\"{self.endpoint}/auth/login\"\n",
    "        data = {\"email\": \"test@test.nl\", \"password\": \"tester123\"}\n",
    "        r = self.session.post(login_endpoint, json=data)\n",
    "        r.raise_for_status()\n",
    "        payload = r.json()\n",
    "        # Keep both tokens\n",
    "        self.access_token = payload[\"access_token\"]\n",
    "        self.refresh_token = payload[\"refresh_token\"]\n",
    "\n",
    "    def _auth_header(self, use_refresh: bool = False) -> Dict[str, str]:\n",
    "        token = self.refresh_token if use_refresh else self.access_token\n",
    "        return {\"Authorization\": f\"Bearer {token}\"} if token else {}\n",
    "\n",
    "    def refresh(self) -> bool:\n",
    "        \"\"\"Use the refresh token to get a new pair of tokens. Returns True on success.\"\"\"\n",
    "        refresh_endpoint = f\"{self.endpoint}/auth/refresh\"\n",
    "        r = self.session.post(refresh_endpoint, headers=self._auth_header(use_refresh=True))\n",
    "        if r.status_code == 200:\n",
    "            payload = r.json()\n",
    "            self.access_token = payload[\"access_token\"]\n",
    "            self.refresh_token = payload[\"refresh_token\"]\n",
    "            return True\n",
    "        return False\n",
    "\n",
    "    # ---------- request wrapper that auto-refreshes ----------\n",
    "    def _request(self, method: str, path: str, **kwargs):\n",
    "        if not path.startswith(\"/\"):\n",
    "            raise ValueError(\"Path should start with /\")\n",
    "        url = f\"{self.endpoint}{path}\"\n",
    "\n",
    "        # 1st attempt with access token\n",
    "        headers = kwargs.pop(\"headers\", {})\n",
    "        headers.update(self._auth_header())\n",
    "        resp = self.session.request(method, url, headers=headers, **kwargs)\n",
    "\n",
    "        # If access token expired, try once to refresh and retry\n",
    "        if resp.status_code == 401:\n",
    "            # Optional: check msg to ensure it’s token-expired, not other auth error\n",
    "            try:\n",
    "                msg = resp.json().get(\"msg\", \"\").lower()\n",
    "            except Exception:\n",
    "                msg = \"\"\n",
    "            if \"token has expired\" in msg or \"signature verification failed\" in msg or \"not fresh\" in msg or not msg:\n",
    "                if self.refresh():\n",
    "                    headers = kwargs.get(\"headers\", {})\n",
    "                    headers.update(self._auth_header())\n",
    "                    return self.session.request(method, url, headers=headers, **kwargs)\n",
    "        return resp\n",
    "\n",
    "    # ---------- public HTTP helpers ----------\n",
    "    def post(self, path: str, json_data: Dict):\n",
    "        return self._request(\"POST\", path, json=json_data)\n",
    "\n",
    "    def get(self, path: str, search_params=None):\n",
    "        return self._request(\"GET\", path, params=search_params)\n",
    "\n",
    "    def put(self, path: str, json_data: Dict):\n",
    "        return self._request(\"PUT\", path, json=json_data)\n",
    "\n",
    "app = ApplicationTester()"
   ]
  },
  {
   "cell_type": "code",
   "execution_count": 6,
   "id": "793e5aa5",
   "metadata": {},
   "outputs": [
    {
     "data": {
      "text/plain": [
       "<Response [200]>"
      ]
     },
     "execution_count": 6,
     "metadata": {},
     "output_type": "execute_result"
    }
   ],
   "source": [
    "app.get(\"/scraper\")"
   ]
  },
  {
   "cell_type": "code",
   "execution_count": 7,
   "id": "68e11f46",
   "metadata": {},
   "outputs": [],
   "source": [
    "scraper_instance = app.post(\"/scraper\", {\"keywords\": [\"subtitles\", \"video\", \"grammar\"], \"subreddits\": [\"deaf\", \"asl\", \"bsl\"]}).json()"
   ]
  },
  {
   "cell_type": "code",
   "execution_count": 8,
   "id": "e3cfae6f",
   "metadata": {},
   "outputs": [
    {
     "data": {
      "text/plain": [
       "{'scraper_id': '68c7d5befddf9d5883dfe1a9'}"
      ]
     },
     "execution_count": 8,
     "metadata": {},
     "output_type": "execute_result"
    }
   ],
   "source": [
    "scraper_instance"
   ]
  },
  {
   "cell_type": "code",
   "execution_count": 50,
   "id": "405c25ab",
   "metadata": {},
   "outputs": [
    {
     "data": {
      "text/plain": [
       "{'message': 'successfully scraped the scraper instance on reddit',\n",
       " 'paused': False,\n",
       " 'processed': 9,\n",
       " 'total': 9}"
      ]
     },
     "execution_count": 50,
     "metadata": {},
     "output_type": "execute_result"
    }
   ],
   "source": [
    "app.post(\"/scraper/start\", scraper_instance).json()"
   ]
  },
  {
   "cell_type": "code",
   "execution_count": null,
   "id": "81c366fc",
   "metadata": {},
   "outputs": [],
   "source": []
  }
 ],
 "metadata": {
  "kernelspec": {
   "display_name": "venv (3.12.10)",
   "language": "python",
   "name": "python3"
  },
  "language_info": {
   "codemirror_mode": {
    "name": "ipython",
    "version": 3
   },
   "file_extension": ".py",
   "mimetype": "text/x-python",
   "name": "python",
   "nbconvert_exporter": "python",
   "pygments_lexer": "ipython3",
   "version": "3.12.10"
  }
 },
 "nbformat": 4,
 "nbformat_minor": 5
}
