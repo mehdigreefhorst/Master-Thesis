{
 "cells": [
  {
   "cell_type": "code",
   "execution_count": 1,
   "id": "bc1d9ce8",
   "metadata": {},
   "outputs": [],
   "source": [
    "import requests"
   ]
  },
  {
   "cell_type": "code",
   "execution_count": 2,
   "id": "fd20c444",
   "metadata": {},
   "outputs": [],
   "source": [
    "endpoint = \"http://127.0.0.1:5001\"\n"
   ]
  },
  {
   "cell_type": "code",
   "execution_count": 3,
   "id": "efe8b5eb",
   "metadata": {},
   "outputs": [],
   "source": [
    "def signup():\n",
    "\n",
    "    signup_endpoint = f\"{endpoint}/auth/signup\"\n",
    "    email = \"test@test.nl\"\n",
    "    password = \"tester123\"\n",
    "    login_data = {\"email\": email, \"password\": password}\n",
    "\n",
    "    response = requests.post(signup_endpoint, json=login_data)\n",
    "    returnable  = response.json()\n",
    "    print(returnable)\n",
    "\n",
    "    login_endpoint = f\"{endpoint}/auth/login\"\n",
    "\n",
    "    response = requests.post(login_endpoint, json=login_data)\n",
    "    access_token = response.json()[\"access_token\"]\n",
    "    print(\"access_token = \", access_token)\n",
    "    return returnable, access_token"
   ]
  },
  {
   "cell_type": "code",
   "execution_count": 4,
   "id": "7cfdd578",
   "metadata": {},
   "outputs": [],
   "source": [
    "import requests\n",
    "from typing import Dict, Optional\n",
    "\n",
    "class ApplicationTester:\n",
    "    endpoint = \"http://127.0.0.1:5001\"\n",
    "\n",
    "    def __init__(self):\n",
    "        self.access_token: Optional[str] = None\n",
    "        self.refresh_token: Optional[str] = None\n",
    "        self.session = requests.Session()\n",
    "        self.login()\n",
    "\n",
    "    # ---------- auth ----------\n",
    "    def login(self):\n",
    "        login_endpoint = f\"{self.endpoint}/auth/login\"\n",
    "        data = {\"email\": \"test@test.nl\", \"password\": \"tester123\"}\n",
    "        r = self.session.post(login_endpoint, json=data)\n",
    "        r.raise_for_status()\n",
    "        payload = r.json()\n",
    "        # Keep both tokens\n",
    "        self.access_token = payload[\"access_token\"]\n",
    "        self.refresh_token = payload[\"refresh_token\"]\n",
    "\n",
    "    def _auth_header(self, use_refresh: bool = False) -> Dict[str, str]:\n",
    "        token = self.refresh_token if use_refresh else self.access_token\n",
    "        return {\"Authorization\": f\"Bearer {token}\"} if token else {}\n",
    "\n",
    "    def refresh(self) -> bool:\n",
    "        \"\"\"Use the refresh token to get a new pair of tokens. Returns True on success.\"\"\"\n",
    "        refresh_endpoint = f\"{self.endpoint}/auth/refresh\"\n",
    "        r = self.session.post(refresh_endpoint, headers=self._auth_header(use_refresh=True))\n",
    "        if r.status_code == 200:\n",
    "            payload = r.json()\n",
    "            self.access_token = payload[\"access_token\"]\n",
    "            self.refresh_token = payload[\"refresh_token\"]\n",
    "            return True\n",
    "        return False\n",
    "\n",
    "    # ---------- request wrapper that auto-refreshes ----------\n",
    "    def _request(self, method: str, path: str, **kwargs):\n",
    "        if not path.startswith(\"/\"):\n",
    "            raise ValueError(\"Path should start with /\")\n",
    "        url = f\"{self.endpoint}{path}\"\n",
    "\n",
    "        # 1st attempt with access token\n",
    "        headers = kwargs.pop(\"headers\", {})\n",
    "        headers.update(self._auth_header())\n",
    "        resp = self.session.request(method, url, headers=headers, **kwargs)\n",
    "\n",
    "        # If access token expired, try once to refresh and retry\n",
    "        if resp.status_code == 401:\n",
    "            # Optional: check msg to ensure it’s token-expired, not other auth error\n",
    "            try:\n",
    "                msg = resp.json().get(\"msg\", \"\").lower()\n",
    "            except Exception:\n",
    "                msg = \"\"\n",
    "            if \"token has expired\" in msg or \"signature verification failed\" in msg or \"not fresh\" in msg or not msg:\n",
    "                if self.refresh():\n",
    "                    headers = kwargs.get(\"headers\", {})\n",
    "                    headers.update(self._auth_header())\n",
    "                    return self.session.request(method, url, headers=headers, **kwargs)\n",
    "        return resp\n",
    "\n",
    "    # ---------- public HTTP helpers ----------\n",
    "    def post(self, path: str, json_data: Dict):\n",
    "        return self._request(\"POST\", path, json=json_data)\n",
    "\n",
    "    def get(self, path: str, search_params=None):\n",
    "        return self._request(\"GET\", path, params=search_params)\n",
    "\n",
    "    def put(self, path: str, json_data: Dict):\n",
    "        return self._request(\"PUT\", path, json=json_data)\n",
    "\n",
    "app = ApplicationTester()"
   ]
  },
  {
   "cell_type": "code",
   "execution_count": 12,
   "id": "793e5aa5",
   "metadata": {},
   "outputs": [
    {
     "data": {
      "text/plain": [
       "[]"
      ]
     },
     "execution_count": 12,
     "metadata": {},
     "output_type": "execute_result"
    }
   ],
   "source": [
    "app.get(\"/scraper_cluster\").json()"
   ]
  },
  {
   "cell_type": "code",
   "execution_count": 29,
   "id": "1ca25b52",
   "metadata": {},
   "outputs": [],
   "source": [
    "scraper_cluster_instance = app.post(\"/scraper_cluster/create\", json_data={}).json()"
   ]
  },
  {
   "cell_type": "code",
   "execution_count": 30,
   "id": "1bef545d",
   "metadata": {},
   "outputs": [
    {
     "data": {
      "text/plain": [
       "{'scraper_cluster_id': '68e0d7da7f326b760c56f06a'}"
      ]
     },
     "execution_count": 30,
     "metadata": {},
     "output_type": "execute_result"
    }
   ],
   "source": [
    "scraper_cluster_instance"
   ]
  },
  {
   "cell_type": "code",
   "execution_count": 31,
   "id": "c33e1c77",
   "metadata": {},
   "outputs": [
    {
     "data": {
      "text/plain": [
       "{'keywords': ['subtitles', 'video', 'grammar'],\n",
       " 'subreddits': ['deaf', 'asl', 'bsl'],\n",
       " 'scraper_cluster_id': '68e0d7da7f326b760c56f06a'}"
      ]
     },
     "execution_count": 31,
     "metadata": {},
     "output_type": "execute_result"
    }
   ],
   "source": [
    "scraper_request = {\"keywords\": [\"subtitles\", \"video\", \"grammar\"], \"subreddits\": [\"deaf\", \"asl\", \"bsl\"]}\n",
    "scraper_request[\"scraper_cluster_id\"] = scraper_cluster_instance[\"scraper_cluster_id\"]\n",
    "scraper_request"
   ]
  },
  {
   "cell_type": "code",
   "execution_count": 36,
   "id": "68e11f46",
   "metadata": {},
   "outputs": [],
   "source": [
    "scraper_instance = app.post(\"/scraper\", json_data=scraper_request).json()"
   ]
  },
  {
   "cell_type": "code",
   "execution_count": 37,
   "id": "e3cfae6f",
   "metadata": {},
   "outputs": [
    {
     "data": {
      "text/plain": [
       "{'scraper_id': '68e0d8c19ea8c0625e6b3479'}"
      ]
     },
     "execution_count": 37,
     "metadata": {},
     "output_type": "execute_result"
    }
   ],
   "source": [
    "scraper_instance"
   ]
  },
  {
   "cell_type": "code",
   "execution_count": 41,
   "id": "405c25ab",
   "metadata": {},
   "outputs": [
    {
     "data": {
      "text/plain": [
       "{'message': 'successfully scraped the scraper instance on reddit',\n",
       " 'paused': False,\n",
       " 'processed': 9,\n",
       " 'total': 9}"
      ]
     },
     "execution_count": 41,
     "metadata": {},
     "output_type": "execute_result"
    }
   ],
   "source": [
    "app.post(\"/scraper/start\", {\"scraper_cluster_id\": scraper_request[\"scraper_cluster_id\"]}).json()"
   ]
  },
  {
   "cell_type": "code",
   "execution_count": null,
   "id": "81c366fc",
   "metadata": {},
   "outputs": [],
   "source": []
  }
 ],
 "metadata": {
  "kernelspec": {
   "display_name": "venv (3.12.10)",
   "language": "python",
   "name": "python3"
  },
  "language_info": {
   "codemirror_mode": {
    "name": "ipython",
    "version": 3
   },
   "file_extension": ".py",
   "mimetype": "text/x-python",
   "name": "python",
   "nbconvert_exporter": "python",
   "pygments_lexer": "ipython3",
   "version": "3.12.10"
  }
 },
 "nbformat": 4,
 "nbformat_minor": 5
}
