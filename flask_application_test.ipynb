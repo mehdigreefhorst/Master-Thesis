{
 "cells": [
  {
   "cell_type": "code",
   "execution_count": 1,
   "id": "bc1d9ce8",
   "metadata": {},
   "outputs": [],
   "source": [
    "import requests"
   ]
  },
  {
   "cell_type": "code",
   "execution_count": 2,
   "id": "fd20c444",
   "metadata": {},
   "outputs": [],
   "source": [
    "endpoint = \"http://127.0.0.1:5001\"\n"
   ]
  },
  {
   "cell_type": "code",
   "execution_count": 37,
   "id": "efe8b5eb",
   "metadata": {},
   "outputs": [
    {
     "data": {
      "text/plain": [
       "{'user_id': '68ac7022e24c87692ba648f4'}"
      ]
     },
     "execution_count": 37,
     "metadata": {},
     "output_type": "execute_result"
    }
   ],
   "source": [
    "signup_endpoint = f\"{endpoint}/auth/signup\"\n",
    "email = \"test@test.nl\"\n",
    "password = \"tester123\"\n",
    "login_data = {\"email\": email, \"password\": password}\n",
    "\n",
    "response = requests.post(signup_endpoint, json=login_data)\n",
    "response.json()"
   ]
  },
  {
   "cell_type": "code",
   "execution_count": 40,
   "id": "fd6290fa",
   "metadata": {},
   "outputs": [],
   "source": [
    "login_endpoint = f\"{endpoint}/auth/login\"\n",
    "\n",
    "response = requests.post(login_endpoint, json=login_data)\n",
    "access_token = response.json()[\"access_token\"]\n"
   ]
  },
  {
   "cell_type": "code",
   "execution_count": 66,
   "id": "7cfdd578",
   "metadata": {},
   "outputs": [],
   "source": [
    "from typing import Dict\n",
    "\n",
    "\n",
    "class ApplicationTester:\n",
    "    endpoint = \"http://127.0.0.1:5001\"\n",
    "    headers = {}\n",
    "    def __init__(self):\n",
    "        self.headers = self.login()\n",
    "\n",
    "    def login(self):\n",
    "        login_endpoint = f\"{self.endpoint}/auth/login\"\n",
    "        email = \"test@test.nl\"\n",
    "        password = \"tester123\"\n",
    "        login_data = {\"email\": email, \"password\": password}\n",
    "        response = requests.post(login_endpoint, json=login_data).json()\n",
    "        headers = {\n",
    "            \"Authorization\": f\"Bearer {response[\"access_token\"]}\"\n",
    "        }\n",
    "        return headers\n",
    "    \n",
    "    def post(self, path: str, json_data: Dict):\n",
    "        full_endpoint = f\"{endpoint}/{path}\"\n",
    "        return requests.post(full_endpoint, headers=self.headers, json=json_data)\n",
    "    \n",
    "    def get(self, path: str, search_params = None):\n",
    "        full_endpoint = f\"{endpoint}/{path}\"\n",
    "        return requests.get(full_endpoint, headers=self.headers, params=search_params)\n",
    "    \n",
    "    def put(self, path: str):\n",
    "        full_endpoint = f\"{endpoint}/{path}\"\n",
    "        return requests.put(full_endpoint, headers=self.headers, json=login_data)\n",
    "\n",
    "app = ApplicationTester()"
   ]
  },
  {
   "cell_type": "code",
   "execution_count": 67,
   "id": "793e5aa5",
   "metadata": {},
   "outputs": [
    {
     "data": {
      "text/plain": [
       "[]"
      ]
     },
     "execution_count": 67,
     "metadata": {},
     "output_type": "execute_result"
    }
   ],
   "source": [
    "app.get(\"scraper\").json()"
   ]
  },
  {
   "cell_type": "code",
   "execution_count": 76,
   "id": "68e11f46",
   "metadata": {},
   "outputs": [
    {
     "data": {
      "text/plain": [
       "{'scraper_instance': '68ac7c23aaf934490d99cf98'}"
      ]
     },
     "execution_count": 76,
     "metadata": {},
     "output_type": "execute_result"
    }
   ],
   "source": [
    "app.post(\"scraper\", {\"keywords\": [\"subtitles\", \"video\", \"grammar\"], \"subreddits\": [\"deaf\", \"asl\", \"bsl\"]}).json()"
   ]
  },
  {
   "cell_type": "code",
   "execution_count": 79,
   "id": "24b24580",
   "metadata": {},
   "outputs": [
    {
     "data": {
      "text/plain": [
       "{'_id': 1}"
      ]
     },
     "execution_count": 79,
     "metadata": {},
     "output_type": "execute_result"
    }
   ],
   "source": [
    "projection = {\"_id\": 1}\n",
    "projection.update({})\n",
    "projection"
   ]
  },
  {
   "cell_type": "code",
   "execution_count": null,
   "id": "405c25ab",
   "metadata": {},
   "outputs": [],
   "source": []
  }
 ],
 "metadata": {
  "kernelspec": {
   "display_name": "venv (3.11.12)",
   "language": "python",
   "name": "python3"
  },
  "language_info": {
   "codemirror_mode": {
    "name": "ipython",
    "version": 3
   },
   "file_extension": ".py",
   "mimetype": "text/x-python",
   "name": "python",
   "nbconvert_exporter": "python",
   "pygments_lexer": "ipython3",
   "version": "3.12.10"
  }
 },
 "nbformat": 4,
 "nbformat_minor": 5
}
